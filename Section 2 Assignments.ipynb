{
  "nbformat": 4,
  "nbformat_minor": 0,
  "metadata": {
    "colab": {
      "name": "Untitled0.ipynb",
      "provenance": [],
      "authorship_tag": "ABX9TyMugfzPyrBCnKAW/fWh8MUY",
      "include_colab_link": true
    },
    "kernelspec": {
      "name": "python3",
      "display_name": "Python 3"
    },
    "language_info": {
      "name": "python"
    }
  },
  "cells": [
    {
      "cell_type": "markdown",
      "metadata": {
        "id": "view-in-github",
        "colab_type": "text"
      },
      "source": [
        "<a href=\"https://colab.research.google.com/github/Sid-Lo/Sid-First-Repo/blob/main/Section%202%20Assignments.ipynb\" target=\"_parent\"><img src=\"https://colab.research.google.com/assets/colab-badge.svg\" alt=\"Open In Colab\"/></a>"
      ]
    },
    {
      "cell_type": "code",
      "metadata": {
        "colab": {
          "base_uri": "https://localhost:8080/"
        },
        "id": "HU9ybn9-Qc4H",
        "outputId": "36eebc8c-0ba0-4a1d-e821-fd5f9f24f842"
      },
      "source": [
        "#Challenge 1: Try to calculate the sum of all integers between 0 to 100 in your own way.\n",
        "\n",
        "print(sum(range(101)))"
      ],
      "execution_count": 1,
      "outputs": [
        {
          "output_type": "stream",
          "text": [
            "5050\n"
          ],
          "name": "stdout"
        }
      ]
    },
    {
      "cell_type": "code",
      "metadata": {
        "colab": {
          "base_uri": "https://localhost:8080/"
        },
        "id": "tZ24S5xPS-ur",
        "outputId": "2a7bde38-023e-44a0-ae16-f1a634518b40"
      },
      "source": [
        "# Challenge 2: Try to define a function which can take 2 parameters of integers, and calculate the sum of all the integers in between.\n",
        "\n",
        "def sumOfIntegers(min:int, max:int) -> int:\n",
        "    return(sum([x for x in range(min, max +1)]))\n",
        "\n",
        "\n",
        "sumOfIntegers(0, 100)"
      ],
      "execution_count": 3,
      "outputs": [
        {
          "output_type": "execute_result",
          "data": {
            "text/plain": [
              "5050"
            ]
          },
          "metadata": {
            "tags": []
          },
          "execution_count": 3
        }
      ]
    },
    {
      "cell_type": "code",
      "metadata": {
        "colab": {
          "base_uri": "https://localhost:8080/"
        },
        "id": "_THrbTjxTSGA",
        "outputId": "be03a83e-2ff8-468d-9d7b-399d8beb01a2"
      },
      "source": [
        "# Challenge 3: Try to make the function you created for Challenge 2 able to handle inappropriate input exceptions elegantly.\n",
        "\n",
        "def sumOfIntegers(min_int:int, max_int:int) -> int: \n",
        "    try:\n",
        "        return (sum([x for x in range(min_int, max_int+1)]))\n",
        "    except Exception as err:\n",
        "        print(err)\n",
        "\n",
        "print(f'Successful example: {sumOfIntegers(0, 100)}')\n",
        "\n",
        "print('Unsuccessful example:')\n",
        "sumOfIntegers(4, 100)"
      ],
      "execution_count": 10,
      "outputs": [
        {
          "output_type": "stream",
          "text": [
            "Successful example: 5050\n",
            "Unsuccessful example:\n"
          ],
          "name": "stdout"
        },
        {
          "output_type": "execute_result",
          "data": {
            "text/plain": [
              "5044"
            ]
          },
          "metadata": {
            "tags": []
          },
          "execution_count": 10
        }
      ]
    },
    {
      "cell_type": "code",
      "metadata": {
        "colab": {
          "base_uri": "https://localhost:8080/"
        },
        "id": "g0e8iFRWUYZw",
        "outputId": "b5995470-cb20-4392-af08-ce8bf42b66b3"
      },
      "source": [
        "#Challenge 4 (Difficult!): Try to define a class of \"mathBot\" which has the following features:\n",
        "\n",
        "#Can be created with arguments that specify date of creation, the name of the created instance, and other properties. These properties should be also editable.\n",
        "#Comes with a memory module that can store/retrieve/update/eliminate data in number into/from different datasets with different label names.\n",
        "#Comes with a stat module that can analyze the stored datasets statistically, such as generating the mean, median, variance, etc.\n",
        "#Is able to handle invalid input.\n",
        "#(Optional and Even Harder! Do it if you enjoy and want to explore) You can build your new class on the base of ChaiBot from Chai.ml! Try it out by referencing this guide: https://collectednotes.com/chai/your-first-chat-ai-in-10-minutes\n",
        "#(To Inifinity and Beyond): You can deploy your bot directly to chai.ml and play with it (Would be discussed on Section 4).\n",
        "#In addition the the guide provided above, try this one: https://chai.ml/docs/basic\n",
        "\n",
        "#!pip install chaipy nest_asyncio\n",
        "\n",
        "from chai_py import ChaiBot, Update, TRoom\n",
        "import datetime, asyncio\n",
        "import nest_asyncio\n",
        "import numpy as np\n",
        "nest_asyncio.apply()\n",
        "\n",
        "class mathBot(ChaiBot):\n",
        "    def setup(self) -> None:\n",
        "        self.logger.info(\"Hello, World\")\n",
        "        name = input(\"Please give me a name if you don't want to call me mathBot\") or \"mathBot\"\n",
        "\n",
        "        parentName = input(\"Please tell me who created me if I am not created by Siddhanth\") or \"Siddhanth\"\n",
        "        self.botName = name\n",
        "        self.dateOfCreation = datetime.datetime.now()\n",
        "        self.parentName = parentName\n",
        "        self.dataStorageDict = {}\n",
        "        self.dataStorageList = []\n",
        "    def storageData():\n",
        "        return\n",
        "    async def on_message(self, update: Update) -> str:\n",
        "        message_text = update.latest_message.text\n",
        "        \n",
        "        if  message_text == \"name\":\n",
        "            return f\"My name is {self.botName}\"\n",
        "        elif message_text == \"parent\":\n",
        "            return f\"I was created by {self.parentName} on {self.dateOfCreation.strftime('%Y-%m-%d')}.\"\n",
        "            return f\"Echo: {update.latest_message.text}\"\n",
        "        \n",
        "        elif 'data store' in message_text:\n",
        "            try:\n",
        "                string_of_numbers = message_text.replace('data store', '')\n",
        "                self.dataStorageList = [float(val) for val in string_of_numbers.split()]\n",
        "                return(f' Data stored!')\n",
        "            except:\n",
        "                return(f\"\"\" Couldn\\'t store the data :(  Try format: \"data store 0.1 12 2.3 3\"\"\")\n",
        "        elif message_text == 'analyze':\n",
        "            data = self.dataStorageList\n",
        "            if len(data) == 0:\n",
        "                return(f'No data found!')\n",
        "            else:\n",
        "                return(f'Analyzing the data. Mean: {np.mean(data)}, median: {np.median(data)}, variance: {np.var(data)}')\n",
        "        \n",
        "        else:\n",
        "            return \"Unrecognised input, try again!\"\n",
        "\n",
        "t_room = TRoom([mathBot()])\n",
        "t_room.chat()"
      ],
      "execution_count": null,
      "outputs": [
        {
          "output_type": "stream",
          "text": [
            "2021-07-24 02:28:56 | INFO     | mathBot | Hello, World\n",
            "Please give me a name if you don't want to call me mathBotno\n",
            "Please tell me who created me if I am not created by SiddhanthSid\n",
            "Starting TRoom. Press ctrl-c to escape.\n",
            "<<< __first\n",
            ">>> Unrecognised input, try again!\n"
          ],
          "name": "stdout"
        }
      ]
    }
  ]
}